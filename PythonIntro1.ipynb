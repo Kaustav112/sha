{
  "nbformat": 4,
  "nbformat_minor": 0,
  "metadata": {
    "colab": {
      "name": "PythonIntro1.ipynb",
      "provenance": [],
      "collapsed_sections": [],
      "toc_visible": true
    },
    "kernelspec": {
      "name": "python2",
      "display_name": "Python 2"
    }
  },
  "cells": [
    {
      "cell_type": "markdown",
      "metadata": {
        "id": "view-in-github",
        "colab_type": "text"
      },
      "source": [
        "<a href=\"https://colab.research.google.com/github/nrjcs/DL_ML/blob/master/PythonIntro.ipynb\" target=\"_parent\"><img src=\"https://colab.research.google.com/assets/colab-badge.svg\" alt=\"Open In Colab\"/></a>"
      ]
    },
    {
      "cell_type": "markdown",
      "metadata": {
        "id": "Ez-e8PL-1_eM",
        "colab_type": "text"
      },
      "source": [
        "# **Introduction to Python**\n"
      ]
    },
    {
      "cell_type": "markdown",
      "metadata": {
        "id": "Jy3H78Hy1y5V",
        "colab_type": "text"
      },
      "source": [
        "# **Variables, Datatypes**\n"
      ]
    },
    {
      "cell_type": "code",
      "metadata": {
        "id": "vuAJOBovnqM-",
        "colab_type": "code",
        "outputId": "693685c7-6f24-4bf1-f43c-6e788a501608",
        "colab": {
          "base_uri": "https://localhost:8080/",
          "height": 139
        }
      },
      "source": [
        "x= 19\n",
        "y=23.567\n",
        "z=\" We are student of IITP\"\n",
        "w=2+5j\n",
        "print x\n",
        "print type(x)\n",
        "print type(y)\n",
        "print type(z)\n",
        "print type(w)\n",
        "print int(y)\n",
        "print type(int(y))"
      ],
      "execution_count": 0,
      "outputs": [
        {
          "output_type": "stream",
          "text": [
            "19\n",
            "<type 'int'>\n",
            "<type 'float'>\n",
            "<type 'str'>\n",
            "<type 'complex'>\n",
            "23\n",
            "<type 'int'>\n"
          ],
          "name": "stdout"
        }
      ]
    },
    {
      "cell_type": "markdown",
      "metadata": {
        "id": "7v_eXPWXurq-",
        "colab_type": "text"
      },
      "source": [
        "#**Data Structures**\n",
        "\n",
        "*  The builtins data structures are: lists, tuples, dictionaries, strings, sets. "
      ]
    },
    {
      "cell_type": "markdown",
      "metadata": {
        "id": "acVQ1Rul14FK",
        "colab_type": "text"
      },
      "source": [
        "# **List** \n"
      ]
    },
    {
      "cell_type": "code",
      "metadata": {
        "id": "E4MPVRx_o0aX",
        "colab_type": "code",
        "outputId": "7a2cee07-2372-4a62-a954-3f0b708b00b3",
        "colab": {
          "base_uri": "https://localhost:8080/",
          "height": 34
        }
      },
      "source": [
        "my_list = []\n",
        "my_list = [1, 4, 7]\n",
        "my_list = [1, \"Hello\", 3.4]\n",
        "print my_list"
      ],
      "execution_count": 0,
      "outputs": [
        {
          "output_type": "stream",
          "text": [
            "[1, 'Hello', 3.4]\n"
          ],
          "name": "stdout"
        }
      ]
    },
    {
      "cell_type": "markdown",
      "metadata": {
        "id": "-4NCQdzIWG2g",
        "colab_type": "text"
      },
      "source": [
        "**How to access one elements from a list?** \n"
      ]
    },
    {
      "cell_type": "code",
      "metadata": {
        "id": "ol1iDIsaWGDa",
        "colab_type": "code",
        "outputId": "506a72ad-59cf-486b-cb35-038f97e2ff7b",
        "colab": {
          "base_uri": "https://localhost:8080/",
          "height": 52
        }
      },
      "source": [
        "print my_list[1],my_list[2]\n",
        "\n",
        "print my_list[-1]"
      ],
      "execution_count": 0,
      "outputs": [
        {
          "output_type": "stream",
          "text": [
            "Hello 3.4\n",
            "3.4\n"
          ],
          "name": "stdout"
        }
      ]
    },
    {
      "cell_type": "markdown",
      "metadata": {
        "id": "3skHd37m6142",
        "colab_type": "text"
      },
      "source": [
        "**How to slice lists in Python?**\n"
      ]
    },
    {
      "cell_type": "code",
      "metadata": {
        "id": "OF9T01YCpojj",
        "colab_type": "code",
        "outputId": "dee87786-40f8-4a47-a3ab-405259371151",
        "colab": {
          "base_uri": "https://localhost:8080/",
          "height": 86
        }
      },
      "source": [
        "my_list = ['p','r','o','g','r','a','m']\n",
        "\n",
        "print(my_list[2:5])\n",
        "\n",
        "print(my_list[:-5])\n",
        "\n",
        "print(my_list[5:])\n",
        "\n",
        "print(my_list[:])"
      ],
      "execution_count": 0,
      "outputs": [
        {
          "output_type": "stream",
          "text": [
            "['o', 'g', 'r']\n",
            "['p', 'r']\n",
            "['a', 'm']\n",
            "['p', 'r', 'o', 'g', 'r', 'a', 'm']\n"
          ],
          "name": "stdout"
        }
      ]
    },
    {
      "cell_type": "markdown",
      "metadata": {
        "id": "x9zDscWm6_Yz",
        "colab_type": "text"
      },
      "source": [
        "**How to change or add elements to a list?**\n"
      ]
    },
    {
      "cell_type": "code",
      "metadata": {
        "id": "GotVJvxSqZA3",
        "colab_type": "code",
        "outputId": "5afd8557-ffeb-4896-ef96-221dab90682f",
        "colab": {
          "base_uri": "https://localhost:8080/",
          "height": 35
        }
      },
      "source": [
        "my_list[0]=1\n",
        "print(my_list)"
      ],
      "execution_count": 0,
      "outputs": [
        {
          "output_type": "stream",
          "text": [
            "[1, 'r', 'o', 'g', 'r', 'a', 'm']\n"
          ],
          "name": "stdout"
        }
      ]
    },
    {
      "cell_type": "markdown",
      "metadata": {
        "id": "pD8eaj_JcLDg",
        "colab_type": "text"
      },
      "source": [
        "We can add one item to a list using append() method or add several items using extend() method."
      ]
    },
    {
      "cell_type": "code",
      "metadata": {
        "id": "dccJGu1ehOgk",
        "colab_type": "code",
        "outputId": "2444fcc7-054a-427c-d70f-001b17a5eb49",
        "colab": {
          "base_uri": "https://localhost:8080/",
          "height": 69
        }
      },
      "source": [
        "\n",
        "my_list.append(2)\n",
        "print(my_list)\n",
        "my_list.extend([3,4])\n",
        "print(my_list)\n",
        "my_list.insert(1,3)\n",
        "print(my_list)"
      ],
      "execution_count": 0,
      "outputs": [
        {
          "output_type": "stream",
          "text": [
            "['p', 'r', 'o', 'g', 'r', 'a', 'm', 2]\n",
            "['p', 'r', 'o', 'g', 'r', 'a', 'm', 2, 3, 4]\n",
            "['p', 3, 'r', 'o', 'g', 'r', 'a', 'm', 2, 3, 4]\n"
          ],
          "name": "stdout"
        }
      ]
    },
    {
      "cell_type": "markdown",
      "metadata": {
        "id": "P4dvPnAqdZ-w",
        "colab_type": "text"
      },
      "source": [
        "**Delete**"
      ]
    },
    {
      "cell_type": "code",
      "metadata": {
        "id": "VvQ5FnEEdakN",
        "colab_type": "code",
        "outputId": "596efe7b-8f9e-46c2-fe66-3cee7b77b320",
        "colab": {
          "base_uri": "https://localhost:8080/",
          "height": 52
        }
      },
      "source": [
        "my_list = ['p','r','o','b','l','e','m']\n",
        "\n",
        "del my_list[2]\n",
        "    \n",
        "print(my_list)\n",
        "\n",
        "del my_list[1:5]  \n",
        "\n",
        "print(my_list)\n",
        "\n",
        "x=my_list.pop(1)\n",
        "\n",
        "del my_list       \n"
      ],
      "execution_count": 0,
      "outputs": [
        {
          "output_type": "stream",
          "text": [
            "['p', 'r', 'b', 'l', 'e', 'm']\n",
            "['p', 'm']\n"
          ],
          "name": "stdout"
        }
      ]
    },
    {
      "cell_type": "markdown",
      "metadata": {
        "id": "TAcsl_t7fE3h",
        "colab_type": "text"
      },
      "source": [
        "#**Tuple**"
      ]
    },
    {
      "cell_type": "code",
      "metadata": {
        "id": "S0LZ5u0tfJtW",
        "colab_type": "code",
        "outputId": "87c87b47-897f-4990-8584-a10477025ae4",
        "colab": {
          "base_uri": "https://localhost:8080/",
          "height": 104
        }
      },
      "source": [
        "my_tuple = ()\n",
        "print(my_tuple) \n",
        "my_tuple = (1, 2, 3)\n",
        "print(my_tuple)  \n",
        "my_tuple = (1, \"Hello\", 3.4)\n",
        "print(my_tuple)\n",
        "#accessing is same as list using indexing, negative indexing and slicing is also same\n",
        "print(my_tuple[0])\n",
        "\n",
        "#tuples are immutable i.e. we can not change the elements of a tuple\n",
        "#my_tuple[0] = 22\n",
        "\n",
        "#Creating a tuple with one element is a bit tricky.\n",
        "t= (\"Hello\")\n",
        "t= (\"Hello\",)\n",
        "t= \"Hello\",\n",
        "print(type(t))\n",
        "\n",
        "# But deleting a tuple entirely is possible using the keyword del.\n",
        "\n",
        "#del my_tuple[0]\n",
        "del my_tuple\n",
        "\n",
        "\n"
      ],
      "execution_count": 0,
      "outputs": [
        {
          "output_type": "stream",
          "text": [
            "()\n",
            "(1, 2, 3)\n",
            "(1, 'Hello', 3.4)\n",
            "1\n",
            "<type 'tuple'>\n"
          ],
          "name": "stdout"
        }
      ]
    },
    {
      "cell_type": "markdown",
      "metadata": {
        "id": "RtopPozUpWwf",
        "colab_type": "text"
      },
      "source": [
        "#**String**\n",
        "\n",
        "**sequence of characters**"
      ]
    },
    {
      "cell_type": "code",
      "metadata": {
        "id": "IyfjIBKrpbjF",
        "colab_type": "code",
        "outputId": "1d745a54-ce72-4799-c8ad-3584602def51",
        "colab": {
          "base_uri": "https://localhost:8080/",
          "height": 88
        }
      },
      "source": [
        "my_string = 'Hello'\n",
        "print(my_string)\n",
        "\n",
        "print 'str[0] = ', my_string[0]\n",
        "print 'str[-1] = ', my_string[-1]\n",
        "\n",
        "#slicing 2nd to 5th character\n",
        "print 'str[1:4] = ', my_string[1:4]\n",
        "\n",
        "#Strings are immutable.\n",
        "#my_string[1]= 'x'"
      ],
      "execution_count": 2,
      "outputs": [
        {
          "output_type": "stream",
          "text": [
            "Hello\n",
            "str[0] =  H\n",
            "str[-1] =  o\n",
            "str[1:4] =  ell\n"
          ],
          "name": "stdout"
        }
      ]
    },
    {
      "cell_type": "markdown",
      "metadata": {
        "id": "7qNyqxzkfbc3",
        "colab_type": "text"
      },
      "source": [
        "#**Set**\n",
        "\n",
        "*  **A set is an unordered and unindexed collection of elements with no duplicate elements.**"
      ]
    },
    {
      "cell_type": "code",
      "metadata": {
        "id": "7Vn4yRksh1h1",
        "colab_type": "code",
        "outputId": "bb7bee43-dc1e-4f28-ac0e-c32e8d0e2e4c",
        "colab": {
          "base_uri": "https://localhost:8080/",
          "height": 121
        }
      },
      "source": [
        "my_set = {1, 2, 3}\n",
        "\n",
        "# add an element\n",
        "my_set.add(5)\n",
        "# add multiple elements\n",
        "my_set.update([2,3,4])\n",
        "print(my_set)\n",
        "\n",
        "\n",
        "my_set.discard(6)\n",
        "#my_set.remove(6)\n",
        "\n",
        "#Creating an empty set is a bit tricky, use the set() function without any argument.\n",
        "a = set()\n",
        "a.add(12)\n",
        "a.add(11)\n",
        "print(a)\n",
        "\n",
        "\n",
        "# initialize A and B\n",
        "A = {1, 2, 3, 4, 5}\n",
        "B = {4, 5, 6, 7, 8}\n",
        "print(A | B)\n",
        "print(A.union(B))\n",
        "print(A & B)\n",
        "print(A.intersection(B))"
      ],
      "execution_count": 0,
      "outputs": [
        {
          "output_type": "stream",
          "text": [
            "set([1, 2, 3, 4, 5])\n",
            "set([11, 12])\n",
            "set([1, 2, 3, 4, 5, 6, 7, 8])\n",
            "set([1, 2, 3, 4, 5, 6, 7, 8])\n",
            "set([4, 5])\n",
            "set([4, 5])\n"
          ],
          "name": "stdout"
        }
      ]
    },
    {
      "cell_type": "markdown",
      "metadata": {
        "id": "ZPpdRvwarlfF",
        "colab_type": "text"
      },
      "source": [
        "#**Dictionary**\n",
        "\n",
        "*  **A dictionary is a set of unordered key, value pairs. In a dictionary, the keys must be unique and they are stored in an unordered manner.**"
      ]
    },
    {
      "cell_type": "code",
      "metadata": {
        "id": "Ojez6PwGrpGO",
        "colab_type": "code",
        "outputId": "90903ca0-37fa-4c8a-dd31-77a2896c2846",
        "colab": {
          "base_uri": "https://localhost:8080/",
          "height": 71
        }
      },
      "source": [
        "my_dict={}\n",
        "my_dict = {'name':'Jack', 'age': 26}\n",
        "print my_dict\n",
        "#accessing\n",
        "print my_dict['name']\n",
        "#Dictionary are mutable. We can add new items or change the value of existing items using assignment operator.\n",
        "my_dict['age'] = 27\n",
        "print my_dict\n",
        "\n"
      ],
      "execution_count": 0,
      "outputs": [
        {
          "output_type": "stream",
          "text": [
            "{'age': 26, 'name': 'Jack'}\n",
            "Jack\n",
            "{'age': 27, 'name': 'Jack'}\n"
          ],
          "name": "stdout"
        }
      ]
    },
    {
      "cell_type": "markdown",
      "metadata": {
        "id": "o_k6J0MjqO8S",
        "colab_type": "text"
      },
      "source": [
        "# **Join**, **Split**, **Replace**"
      ]
    },
    {
      "cell_type": "code",
      "metadata": {
        "id": "EBdRG5wpqS0b",
        "colab_type": "code",
        "outputId": "f197e6f6-1ea4-463a-d273-729b05558a0b",
        "colab": {
          "base_uri": "https://localhost:8080/",
          "height": 86
        }
      },
      "source": [
        "a = \"this is a string\"\n",
        "result = a.split(\" \")\n",
        "print(result)\n",
        "\n",
        "a = \"-\".join(result)\n",
        "print(a)\n",
        "\n",
        "b='Hello##How##are##you##?'\n",
        "result=' '.join(b.split('##'))\n",
        "print(result)\n",
        "\n",
        "old = 'I like Football' \n",
        "new = old.replace('like', 'love')\n",
        "print(new)"
      ],
      "execution_count": 0,
      "outputs": [
        {
          "output_type": "stream",
          "text": [
            "['this', 'is', 'a', 'string']\n",
            "this-is-a-string\n",
            "Hello How are you ?\n",
            "I love Football\n"
          ],
          "name": "stdout"
        }
      ]
    },
    {
      "cell_type": "markdown",
      "metadata": {
        "id": "CaQZn-i6aAuF",
        "colab_type": "text"
      },
      "source": [
        "#**Python Flow Control** \n",
        "\n",
        "Python for Loop"
      ]
    },
    {
      "cell_type": "code",
      "metadata": {
        "id": "gLFk76Q3aBmH",
        "colab_type": "code",
        "outputId": "d2f52c6d-9ace-4692-9ab7-27ab88385b4c",
        "colab": {
          "base_uri": "https://localhost:8080/",
          "height": 191
        }
      },
      "source": [
        "a=[119,23,45,77,13,55]\n",
        "\n",
        "for i in a:\n",
        "    print i\n",
        "\n",
        "print \"--------------\"\n",
        "for j in range(len(a)):\n",
        "      if a[j]>50:\n",
        "        print a[j]\n",
        "      else:\n",
        "          continue"
      ],
      "execution_count": 0,
      "outputs": [
        {
          "output_type": "stream",
          "text": [
            "119\n",
            "23\n",
            "45\n",
            "77\n",
            "13\n",
            "55\n",
            "--------------\n",
            "119\n",
            "77\n",
            "55\n"
          ],
          "name": "stdout"
        }
      ]
    },
    {
      "cell_type": "markdown",
      "metadata": {
        "id": "IpdhohjXvKQn",
        "colab_type": "text"
      },
      "source": [
        "\n",
        "# **Functions**\n",
        "\n",
        "\n"
      ]
    },
    {
      "cell_type": "code",
      "metadata": {
        "id": "RZsae1Dgv0B-",
        "colab_type": "code",
        "outputId": "0304660b-3c80-4493-baf5-9581b1fafc3d",
        "colab": {
          "base_uri": "https://localhost:8080/",
          "height": 53
        }
      },
      "source": [
        "def find_odd(a):\n",
        "    if (a%2)!=0:\n",
        "        print \"Hey this is odd!!\"\n",
        "        return a\n",
        "        \n",
        "print(find_odd(13))\n",
        "\n",
        "        "
      ],
      "execution_count": 0,
      "outputs": [
        {
          "output_type": "stream",
          "text": [
            "Hey this is odd!!\n",
            "13\n"
          ],
          "name": "stdout"
        }
      ]
    },
    {
      "cell_type": "markdown",
      "metadata": {
        "id": "EI5zJqO--0BO",
        "colab_type": "text"
      },
      "source": [
        "#**Arbitrary Arguments, *args**\n",
        "\n",
        "If you do not know how many arguments that will be passed into your function, add a * before the parameter name in the function definition."
      ]
    },
    {
      "cell_type": "code",
      "metadata": {
        "id": "umDQwcFA9fzK",
        "colab_type": "code",
        "outputId": "4e36c1dd-3da8-40de-ca2b-6c3bd5463277",
        "colab": {
          "base_uri": "https://localhost:8080/",
          "height": 35
        }
      },
      "source": [
        "def best_game(*games):\n",
        "  print(\"The most sensational game is \" + games[2])\n",
        "\n",
        "best_game(\"Cricket\", \"Hockey\", \"Football\") "
      ],
      "execution_count": 4,
      "outputs": [
        {
          "output_type": "stream",
          "text": [
            "The most sensational game is Football\n"
          ],
          "name": "stdout"
        }
      ]
    },
    {
      "cell_type": "markdown",
      "metadata": {
        "id": "qGfqWRmW-6Hr",
        "colab_type": "text"
      },
      "source": [
        "#**Keyword Arguments**\n",
        "\n",
        "You can also send arguments with the key = value syntax."
      ]
    },
    {
      "cell_type": "code",
      "metadata": {
        "id": "orcOaXuM-6-Z",
        "colab_type": "code",
        "outputId": "3b0272d3-1e19-4cf8-cece-e5453304e538",
        "colab": {
          "base_uri": "https://localhost:8080/",
          "height": 34
        }
      },
      "source": [
        "def best_game(sport3, sport2, sport1):\n",
        "  print(\"The most sensational game is \" + sport3)\n",
        "\n",
        "best_game(sport1=\"Cricket\", sport2=\"Hockey\", sport3=\"Football\") "
      ],
      "execution_count": 0,
      "outputs": [
        {
          "output_type": "stream",
          "text": [
            "The most sensational game is Football\n"
          ],
          "name": "stdout"
        }
      ]
    },
    {
      "cell_type": "markdown",
      "metadata": {
        "id": "IZPtxB7g-7fz",
        "colab_type": "text"
      },
      "source": [
        "#**Arbitrary Keyword Arguments, **kwargs**\n",
        "\n",
        "*  If you do not know how many keyword arguments that will be passed into your function, add two asterix: ** before the parameter name in the function definition.\n",
        "\n",
        "*  This way the function will receive a dictionary of arguments, and can access the items accordingly:\n",
        "\n"
      ]
    },
    {
      "cell_type": "code",
      "metadata": {
        "id": "5RseUWuG-8cy",
        "colab_type": "code",
        "outputId": "4a6442a7-222d-4179-8818-ed083d5dab74",
        "colab": {
          "base_uri": "https://localhost:8080/",
          "height": 34
        }
      },
      "source": [
        "def my_function(**information):\n",
        "  print(\"The recent topic is \" + information[\"Topic\"])\n",
        "\n",
        "my_function(politician = \"Modi\", Topic = \"CAA\") "
      ],
      "execution_count": 0,
      "outputs": [
        {
          "output_type": "stream",
          "text": [
            "The recent topic is CAA\n"
          ],
          "name": "stdout"
        }
      ]
    },
    {
      "cell_type": "markdown",
      "metadata": {
        "id": "HUiqeTt6Wo6O",
        "colab_type": "text"
      },
      "source": [
        "#pip install tweepy\n",
        "\n",
        "#pip install pandas\n",
        "\n",
        "#pip install PyDictionary"
      ]
    },
    {
      "cell_type": "code",
      "metadata": {
        "id": "WpRpC1BkXN3d",
        "colab_type": "code",
        "colab": {}
      },
      "source": [
        ""
      ],
      "execution_count": 0,
      "outputs": []
    }
  ]
}
